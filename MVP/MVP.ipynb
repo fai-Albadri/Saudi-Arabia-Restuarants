{
 "cells": [
  {
   "cell_type": "code",
   "execution_count": 7,
   "id": "1b988858",
   "metadata": {},
   "outputs": [
    {
     "data": {
      "text/html": [
       "<div>\n",
       "<style scoped>\n",
       "    .dataframe tbody tr th:only-of-type {\n",
       "        vertical-align: middle;\n",
       "    }\n",
       "\n",
       "    .dataframe tbody tr th {\n",
       "        vertical-align: top;\n",
       "    }\n",
       "\n",
       "    .dataframe thead th {\n",
       "        text-align: right;\n",
       "    }\n",
       "</style>\n",
       "<table border=\"1\" class=\"dataframe\">\n",
       "  <thead>\n",
       "    <tr style=\"text-align: right;\">\n",
       "      <th></th>\n",
       "      <th>name</th>\n",
       "      <th>categories</th>\n",
       "      <th>address</th>\n",
       "      <th>lat</th>\n",
       "      <th>lng</th>\n",
       "      <th>price</th>\n",
       "      <th>likes</th>\n",
       "      <th>photos</th>\n",
       "      <th>tips</th>\n",
       "      <th>rating</th>\n",
       "      <th>ratingSignals</th>\n",
       "    </tr>\n",
       "  </thead>\n",
       "  <tbody>\n",
       "    <tr>\n",
       "      <th>0</th>\n",
       "      <td>مطعم وقت الشواية</td>\n",
       "      <td>Afghan Restaurant</td>\n",
       "      <td>الرياض 14723, المملكة العربية السعودية</td>\n",
       "      <td>24.518983</td>\n",
       "      <td>46.656981</td>\n",
       "      <td>Moderate</td>\n",
       "      <td>0.0</td>\n",
       "      <td>0</td>\n",
       "      <td>0</td>\n",
       "      <td>0.0</td>\n",
       "      <td>0.0</td>\n",
       "    </tr>\n",
       "    <tr>\n",
       "      <th>1</th>\n",
       "      <td>ديوانية عكاظ</td>\n",
       "      <td>Café</td>\n",
       "      <td>الرياض 14726, المملكة العربية السعودية</td>\n",
       "      <td>24.518511</td>\n",
       "      <td>46.669149</td>\n",
       "      <td>Cheap</td>\n",
       "      <td>0.0</td>\n",
       "      <td>2</td>\n",
       "      <td>0</td>\n",
       "      <td>0.0</td>\n",
       "      <td>0.0</td>\n",
       "    </tr>\n",
       "    <tr>\n",
       "      <th>2</th>\n",
       "      <td>شاهي جمر راعي الجمس</td>\n",
       "      <td>Coffee Shop</td>\n",
       "      <td>الرياض 14726, المملكة العربية السعودية</td>\n",
       "      <td>24.519314</td>\n",
       "      <td>46.670041</td>\n",
       "      <td>Cheap</td>\n",
       "      <td>0.0</td>\n",
       "      <td>0</td>\n",
       "      <td>0</td>\n",
       "      <td>0.0</td>\n",
       "      <td>0.0</td>\n",
       "    </tr>\n",
       "    <tr>\n",
       "      <th>3</th>\n",
       "      <td>غدير الشام</td>\n",
       "      <td>Afghan Restaurant</td>\n",
       "      <td>المملكة العربية السعودية</td>\n",
       "      <td>24.519520</td>\n",
       "      <td>46.671660</td>\n",
       "      <td>Moderate</td>\n",
       "      <td>0.0</td>\n",
       "      <td>0</td>\n",
       "      <td>0</td>\n",
       "      <td>0.0</td>\n",
       "      <td>0.0</td>\n",
       "    </tr>\n",
       "    <tr>\n",
       "      <th>4</th>\n",
       "      <td>Dunkin'</td>\n",
       "      <td>Donut Shop</td>\n",
       "      <td>الرياض, المملكة العربية السعودية</td>\n",
       "      <td>24.525001</td>\n",
       "      <td>46.433944</td>\n",
       "      <td>Cheap</td>\n",
       "      <td>29.0</td>\n",
       "      <td>90</td>\n",
       "      <td>1</td>\n",
       "      <td>8.9</td>\n",
       "      <td>32.0</td>\n",
       "    </tr>\n",
       "  </tbody>\n",
       "</table>\n",
       "</div>"
      ],
      "text/plain": [
       "                  name         categories  \\\n",
       "0     مطعم وقت الشواية  Afghan Restaurant   \n",
       "1         ديوانية عكاظ               Café   \n",
       "2  شاهي جمر راعي الجمس        Coffee Shop   \n",
       "3           غدير الشام  Afghan Restaurant   \n",
       "4              Dunkin'         Donut Shop   \n",
       "\n",
       "                                  address        lat        lng     price  \\\n",
       "0  الرياض 14723, المملكة العربية السعودية  24.518983  46.656981  Moderate   \n",
       "1  الرياض 14726, المملكة العربية السعودية  24.518511  46.669149     Cheap   \n",
       "2  الرياض 14726, المملكة العربية السعودية  24.519314  46.670041     Cheap   \n",
       "3                المملكة العربية السعودية  24.519520  46.671660  Moderate   \n",
       "4        الرياض, المملكة العربية السعودية  24.525001  46.433944     Cheap   \n",
       "\n",
       "   likes  photos  tips  rating  ratingSignals  \n",
       "0    0.0       0     0     0.0            0.0  \n",
       "1    0.0       2     0     0.0            0.0  \n",
       "2    0.0       0     0     0.0            0.0  \n",
       "3    0.0       0     0     0.0            0.0  \n",
       "4   29.0      90     1     8.9           32.0  "
      ]
     },
     "execution_count": 7,
     "metadata": {},
     "output_type": "execute_result"
    }
   ],
   "source": [
    "\n",
    "import pandas as pd\n",
    "import numpy as np\n",
    "# Load your application data with Pandas\n",
    "df = pd.read_csv('C:/Users/96655/Desktop/riyadh_resturants_clean.csv')\n",
    "df['rating'] = df['rating'].fillna(0)\n",
    "df['ratingSignals'] = df['ratingSignals'].fillna(0)\n",
    "\n",
    "df.head()"
   ]
  },
  {
   "cell_type": "code",
   "execution_count": 8,
   "id": "3d8aeed1",
   "metadata": {},
   "outputs": [],
   "source": [
    "import seaborn as sns\n",
    "import matplotlib.pyplot as plt\n",
    "from sklearn.linear_model import LinearRegression\n",
    "from sklearn.linear_model import RidgeCV"
   ]
  },
  {
   "cell_type": "code",
   "execution_count": 9,
   "id": "ce185115",
   "metadata": {},
   "outputs": [
    {
     "data": {
      "text/plain": [
       "Index(['name', 'categories', 'address', 'lat', 'lng', 'price', 'likes',\n",
       "       'photos', 'tips', 'rating', 'ratingSignals'],\n",
       "      dtype='object')"
      ]
     },
     "execution_count": 9,
     "metadata": {},
     "output_type": "execute_result"
    }
   ],
   "source": [
    "df.columns"
   ]
  },
  {
   "cell_type": "code",
   "execution_count": 10,
   "id": "ed7ead56",
   "metadata": {},
   "outputs": [
    {
     "data": {
      "text/plain": [
       "Index(['name', 'categories', 'address', 'lat', 'lng', 'price', 'likes',\n",
       "       'photos', 'tips', 'rating', 'ratingSignals'],\n",
       "      dtype='object')"
      ]
     },
     "execution_count": 10,
     "metadata": {},
     "output_type": "execute_result"
    }
   ],
   "source": [
    "df.columns = df.columns.map(str.strip)\n",
    "df.columns"
   ]
  },
  {
   "cell_type": "code",
   "execution_count": 11,
   "id": "dab37ecc",
   "metadata": {},
   "outputs": [
    {
     "data": {
      "text/plain": [
       "(19361, 11)"
      ]
     },
     "execution_count": 11,
     "metadata": {},
     "output_type": "execute_result"
    }
   ],
   "source": [
    "# How many rows and columns does the dataset have?\n",
    "df.shape"
   ]
  },
  {
   "cell_type": "code",
   "execution_count": 12,
   "id": "0fc5d33b",
   "metadata": {},
   "outputs": [
    {
     "data": {
      "text/html": [
       "<div>\n",
       "<style scoped>\n",
       "    .dataframe tbody tr th:only-of-type {\n",
       "        vertical-align: middle;\n",
       "    }\n",
       "\n",
       "    .dataframe tbody tr th {\n",
       "        vertical-align: top;\n",
       "    }\n",
       "\n",
       "    .dataframe thead th {\n",
       "        text-align: right;\n",
       "    }\n",
       "</style>\n",
       "<table border=\"1\" class=\"dataframe\">\n",
       "  <thead>\n",
       "    <tr style=\"text-align: right;\">\n",
       "      <th></th>\n",
       "      <th>lat</th>\n",
       "      <th>lng</th>\n",
       "      <th>likes</th>\n",
       "      <th>photos</th>\n",
       "      <th>tips</th>\n",
       "      <th>rating</th>\n",
       "      <th>ratingSignals</th>\n",
       "    </tr>\n",
       "  </thead>\n",
       "  <tbody>\n",
       "    <tr>\n",
       "      <th>lat</th>\n",
       "      <td>1.000000</td>\n",
       "      <td>0.114489</td>\n",
       "      <td>0.050506</td>\n",
       "      <td>0.054977</td>\n",
       "      <td>0.050642</td>\n",
       "      <td>0.082502</td>\n",
       "      <td>0.052854</td>\n",
       "    </tr>\n",
       "    <tr>\n",
       "      <th>lng</th>\n",
       "      <td>0.114489</td>\n",
       "      <td>1.000000</td>\n",
       "      <td>-0.054172</td>\n",
       "      <td>-0.064999</td>\n",
       "      <td>-0.057502</td>\n",
       "      <td>-0.040003</td>\n",
       "      <td>-0.056567</td>\n",
       "    </tr>\n",
       "    <tr>\n",
       "      <th>likes</th>\n",
       "      <td>0.050506</td>\n",
       "      <td>-0.054172</td>\n",
       "      <td>1.000000</td>\n",
       "      <td>0.795004</td>\n",
       "      <td>0.922806</td>\n",
       "      <td>0.297472</td>\n",
       "      <td>0.989933</td>\n",
       "    </tr>\n",
       "    <tr>\n",
       "      <th>photos</th>\n",
       "      <td>0.054977</td>\n",
       "      <td>-0.064999</td>\n",
       "      <td>0.795004</td>\n",
       "      <td>1.000000</td>\n",
       "      <td>0.711060</td>\n",
       "      <td>0.234264</td>\n",
       "      <td>0.793533</td>\n",
       "    </tr>\n",
       "    <tr>\n",
       "      <th>tips</th>\n",
       "      <td>0.050642</td>\n",
       "      <td>-0.057502</td>\n",
       "      <td>0.922806</td>\n",
       "      <td>0.711060</td>\n",
       "      <td>1.000000</td>\n",
       "      <td>0.295969</td>\n",
       "      <td>0.947834</td>\n",
       "    </tr>\n",
       "    <tr>\n",
       "      <th>rating</th>\n",
       "      <td>0.082502</td>\n",
       "      <td>-0.040003</td>\n",
       "      <td>0.297472</td>\n",
       "      <td>0.234264</td>\n",
       "      <td>0.295969</td>\n",
       "      <td>1.000000</td>\n",
       "      <td>0.308505</td>\n",
       "    </tr>\n",
       "    <tr>\n",
       "      <th>ratingSignals</th>\n",
       "      <td>0.052854</td>\n",
       "      <td>-0.056567</td>\n",
       "      <td>0.989933</td>\n",
       "      <td>0.793533</td>\n",
       "      <td>0.947834</td>\n",
       "      <td>0.308505</td>\n",
       "      <td>1.000000</td>\n",
       "    </tr>\n",
       "  </tbody>\n",
       "</table>\n",
       "</div>"
      ],
      "text/plain": [
       "                    lat       lng     likes    photos      tips    rating  \\\n",
       "lat            1.000000  0.114489  0.050506  0.054977  0.050642  0.082502   \n",
       "lng            0.114489  1.000000 -0.054172 -0.064999 -0.057502 -0.040003   \n",
       "likes          0.050506 -0.054172  1.000000  0.795004  0.922806  0.297472   \n",
       "photos         0.054977 -0.064999  0.795004  1.000000  0.711060  0.234264   \n",
       "tips           0.050642 -0.057502  0.922806  0.711060  1.000000  0.295969   \n",
       "rating         0.082502 -0.040003  0.297472  0.234264  0.295969  1.000000   \n",
       "ratingSignals  0.052854 -0.056567  0.989933  0.793533  0.947834  0.308505   \n",
       "\n",
       "               ratingSignals  \n",
       "lat                 0.052854  \n",
       "lng                -0.056567  \n",
       "likes               0.989933  \n",
       "photos              0.793533  \n",
       "tips                0.947834  \n",
       "rating              0.308505  \n",
       "ratingSignals       1.000000  "
      ]
     },
     "execution_count": 12,
     "metadata": {},
     "output_type": "execute_result"
    }
   ],
   "source": [
    "# View the correlations\n",
    "df.corr()"
   ]
  },
  {
   "cell_type": "code",
   "execution_count": 13,
   "id": "d48b2cb2",
   "metadata": {},
   "outputs": [
    {
     "data": {
      "image/png": "[encoded data removed]",
      "text/plain": [
       "<Figure size 432x288 with 2 Axes>"
      ]
     },
     "metadata": {
      "needs_background": "light"
     },
     "output_type": "display_data"
    }
   ],
   "source": [
    "# example of a better corr matrix\n",
    "sns.heatmap(df.corr(), cmap=\"seismic\", annot=True, vmin=-1, vmax=1);"
   ]
  },
  {
   "cell_type": "code",
   "execution_count": null,
   "id": "3b5f284e",
   "metadata": {},
   "outputs": [],
   "source": [
    "X = df[['likes', 'photos','tips','rating']]\n",
    "y = df['categories']\n",
    "data = pd.DataFrame({'price': ['Moderate', 'Cheap', 'Expensive', 'Very Expensive']})\n"
   ]
  },
  {
   "cell_type": "code",
   "execution_count": null,
   "id": "62f54a8f",
   "metadata": {},
   "outputs": [],
   "source": [
    "from sklearn import linear_model\n",
    "regr = linear_model.LinearRegression()\n",
    "regr.fit(X, y)\n",
    "plt.scatter(df['Interest_Rate'], df['Stock_Index_Price'], color='red')\n",
    "plt.title('Multiplr Regression', fontsize=14)\n",
    "plt.xlabel('Features(likes,photos,tips,rating)', fontsize=14)\n",
    "plt.ylabel('Categories', fontsize=14)\n",
    "plt.grid(True)\n",
    "plt.show()"
   ]
  },
  {
   "cell_type": "code",
   "execution_count": null,
   "id": "a9ef4459",
   "metadata": {},
   "outputs": [],
   "source": [
    "!pip install geopandas"
   ]
  },
  {
   "cell_type": "code",
   "execution_count": null,
   "id": "f00ac574",
   "metadata": {},
   "outputs": [],
   "source": [
    "import geopandas as gpd\n",
    "from shapely.geometry import Point\n",
    "\n",
    "\n",
    "# Convert it to a GeoDataFrame by transforming the Latitude/Longitude coordinates \n",
    "loc_crs = {'init': 'epsg:4326'}\n",
    "loc_geom = [Point(xy) for xy in zip(df['lng'], df['lat'])]\n",
    "geo_df = gpd.GeoDataFrame(df, crs=loc_crs, geometry=loc_geom)\n",
    "\n",
    "# Plot the GeoDataFrame\n",
    "geo_df.plot()"
   ]
  },
  {
   "cell_type": "code",
   "execution_count": null,
   "id": "07ee79be",
   "metadata": {},
   "outputs": [],
   "source": []
  }
 ],
 "metadata": {
  "kernelspec": {
   "display_name": "Python 3",
   "language": "python",
   "name": "python3"
  },
  "language_info": {
   "codemirror_mode": {
    "name": "ipython",
    "version": 3
   },
   "file_extension": ".py",
   "mimetype": "text/x-python",
   "name": "python",
   "nbconvert_exporter": "python",
   "pygments_lexer": "ipython3",
   "version": "3.8.8"
  }
 },
 "nbformat": 4,
 "nbformat_minor": 5
}
